{
  "nbformat": 4,
  "nbformat_minor": 0,
  "metadata": {
    "colab": {
      "name": "coinbase_data.ipynb",
      "provenance": []
    },
    "kernelspec": {
      "name": "python3",
      "display_name": "Python 3"
    },
    "language_info": {
      "name": "python"
    }
  },
  "cells": [
    {
      "cell_type": "markdown",
      "source": [
        "#Levels\n",
        "\n",
        "- Level 1: The best bid, ask and auction info\n",
        "- Level 2: Full order book (aggregated) and auction info\n",
        "- Level 3: Full order book (non aggregated) and auction info"
      ],
      "metadata": {
        "id": "fNKS2TYjg9Td"
      }
    },
    {
      "cell_type": "markdown",
      "source": [
        "# Understanding the data\n",
        "- asks: [['19106.3', '0.255', 2]]\n",
        "  - price at that time: 19106.3\n",
        "  - size(is the sum of the size of the orders at that price): 0.255\n",
        "  - num-orders: 2"
      ],
      "metadata": {
        "id": "MRHJDftvel5F"
      }
    },
    {
      "cell_type": "markdown",
      "source": [
        "#importing the necessary libraries"
      ],
      "metadata": {
        "id": "fIrcEEyQCEXL"
      }
    },
    {
      "cell_type": "code",
      "source": [
        "!pip install schedule\n",
        "!pip install cbpro\n",
        "\n",
        "import cbpro\n",
        "import pandas as pd\n",
        "c = cbpro.PublicClient()\n",
        "\n",
        "import schedule\n",
        "import time , datetime"
      ],
      "metadata": {
        "id": "6UZXKJ3ICKsk"
      },
      "execution_count": null,
      "outputs": []
    },
    {
      "cell_type": "code",
      "source": [
        "\n",
        "order_book_btc = c.get_product_order_book('BTC-USD',level=2)\n",
        "order_book_eth = c.get_product_order_book('BTC-USD',level=2)\n",
        "\n",
        "#funtion to load bitcoin asks data into a dataframe\n",
        "def get_btc_asks_data():\n",
        "  order_book_btc = c.get_product_order_book('BTC-USD',level=2)\n",
        "  ask = pd.DataFrame(order_book_btc['asks'], columns=('price','size','num_orders'))\n",
        "  ask.to_csv('ask-btc.csv', encoding='utf-8', index=False)\n",
        "  return ask\n",
        "  #print(ask)\n",
        "\n",
        "\n",
        "# schedule.every(60).seconds.do(get_btc_usd_asks_data)\n",
        "# while True:\n",
        "#   schedule.run_pending()\n",
        "#   #time.sleep(60 - datetime.datetime.now().second)\n",
        "#   #time.sleep(1)\n",
        "\n",
        "\n",
        "#funtion to load bitcoin bids data into a dataframe\n",
        "def get_btc_bids_data():\n",
        "  order_book_btc = c.get_product_order_book('BTC-USD',level=2)\n",
        "  ask = pd.DataFrame(order_book_btc['bids'], columns=('price','size','num_orders'))\n",
        "  ask.to_csv('bids-btc.csv', encoding='utf-8', index=False)\n",
        "  return ask"
      ],
      "metadata": {
        "id": "oSR_Hl2E5-Sn"
      },
      "execution_count": 33,
      "outputs": []
    },
    {
      "cell_type": "code",
      "source": [
        "#funtion to load ETH bid data into a dataframe\n",
        "def get_eth_asks_data():\n",
        "  order_book_eth = c.get_product_order_book('BTC-USD',level=2)\n",
        "  ask = pd.DataFrame(order_book_eth['asks'], columns=('price','size','num_orders'))\n",
        "  ask.to_csv('ask.eth', encoding='utf-8', index=False)\n",
        "  return ask\n",
        "\n",
        "  #funtion to load bitcoin bid data into a dataframe\n",
        "def get_eth_bids_data():\n",
        "  order_book_eth = c.get_product_order_book('BTC-USD',level=2)\n",
        "  ask = pd.DataFrame(order_book_eth['asks'], columns=('price','size','num_orders'))\n",
        "  ask.to_csv('bids.eth', encoding='utf-8', index=False)\n",
        "  return ask"
      ],
      "metadata": {
        "id": "tPK26aAxdI_9"
      },
      "execution_count": 34,
      "outputs": []
    },
    {
      "cell_type": "code",
      "source": [
        ""
      ],
      "metadata": {
        "id": "8QLH4jYGdio1"
      },
      "execution_count": null,
      "outputs": []
    },
    {
      "cell_type": "markdown",
      "source": [
        "Creating Connection go Google BigQuery API"
      ],
      "metadata": {
        "id": "cYnB2nfce7WW"
      }
    },
    {
      "cell_type": "code",
      "source": [
        "!pip install --upgrade google-cloud-bigquery\n",
        "from google.cloud import bigquery\n",
        "import pandas\n",
        "\n",
        "from google.cloud import bigquery\n",
        "from google.oauth2 import service_account\n",
        "credentials = service_account.Credentials.from_service_account_file(\n",
        "'/content/google_service_account_key.json')\n",
        "\n",
        "project_id = 'prefab-grid-328715'\n",
        "client = bigquery.Client(credentials= credentials,project=project_id)"
      ],
      "metadata": {
        "id": "vBObILqL5-I2",
        "colab": {
          "base_uri": "https://localhost:8080/"
        },
        "outputId": "c0592d4e-7fe0-47d9-d7d4-0eed381d6dad"
      },
      "execution_count": 6,
      "outputs": [
        {
          "output_type": "stream",
          "name": "stdout",
          "text": [
            "Requirement already satisfied: urllib3<1.27,>=1.21.1 in /usr/local/lib/python3.7/dist-packages (from requests<3.0.0dev,>=2.18.0->google-cloud-bigquery) (1.24.3)\n",
            "Requirement already satisfied: certifi>=2017.4.17 in /usr/local/lib/python3.7/dist-packages (from requests<3.0.0dev,>=2.18.0->google-cloud-bigquery) (2022.6.15)\n",
            "Requirement already satisfied: idna<4,>=2.5 in /usr/local/lib/python3.7/dist-packages (from requests<3.0.0dev,>=2.18.0->google-cloud-bigquery) (2.10)\n",
            "Requirement already satisfied: charset-normalizer<3,>=2 in /usr/local/lib/python3.7/dist-packages (from requests<3.0.0dev,>=2.18.0->google-cloud-bigquery) (2.1.0)\n"
          ]
        }
      ]
    },
    {
      "cell_type": "code",
      "source": [
        ""
      ],
      "metadata": {
        "id": "k2pZYx0YOf4d"
      },
      "execution_count": null,
      "outputs": []
    },
    {
      "cell_type": "markdown",
      "source": [
        "#loading data into BigQuery staging Datasets"
      ],
      "metadata": {
        "id": "_gUgt3pZUTnL"
      }
    },
    {
      "cell_type": "code",
      "source": [
        "#client = bigquery.Client()\n",
        "table_id_ask_eth_usd = \"prefab-grid-328715.COINBASE_DATA_ETH_USD_STG.ASK_ETH_USD\"\n",
        "table_id_bids_eth_usd = \"prefab-grid-328715.COINBASE_DATA_ETH_USD_STG.BIDS_ETH_USD\"\n",
        "table_id_bids_btc_usd = \"prefab-grid-328715.COINBASE_DATA_BTC_USD_STG.BIDS_BTC_USD\"\n",
        "table_id_ask_btc_usd = \"prefab-grid-328715.COINBASE_DATA_BTC_USD_STG.ASK_BTC_USD\"\n",
        "\n",
        "\n",
        "dataframe1 = pandas.DataFrame(\n",
        "   get_btc_asks_data(),\n",
        "\n",
        "\n",
        "    columns = [\n",
        "           \"price\",\n",
        "           \"size\",\n",
        "           \"num_orders\"\n",
        "]\n",
        "\n",
        ")\n",
        "\n",
        "dataframe2 = pandas.DataFrame(\n",
        "    get_btc_bids_data(),\n",
        "\n",
        "    columns = [\n",
        "           \"price\",\n",
        "           \"size\",\n",
        "           \"num_orders\"\n",
        "]\n",
        "\n",
        ")\n",
        "dataframe3 = pandas.DataFrame(\n",
        "    get_eth_asks_data(),\n",
        "    \n",
        "\n",
        "    columns = [\n",
        "           \"price\",\n",
        "           \"size\",\n",
        "           \"num_orders\"\n",
        "]\n",
        "\n",
        ")\n",
        "dataframe4 = pandas.DataFrame(\n",
        "    get_eth_bids_data(),\n",
        "   \n",
        "\n",
        "    columns = [\n",
        "           \"price\",\n",
        "           \"size\",\n",
        "           \"num_orders\"\n",
        "]\n",
        "\n",
        ")\n",
        "\n",
        "job_config = bigquery.LoadJobConfig(\n",
        "    schema = [\n",
        "        bigquery.SchemaField(\"price\", bigquery.enums.SqlTypeNames.STRING),\n",
        "        bigquery.SchemaField(\"size\", bigquery.enums.SqlTypeNames.STRING),\n",
        "        bigquery.SchemaField(\"num_orders\", bigquery.enums.SqlTypeNames.INT64) \n",
        "  ]\n",
        ")\n",
        "\n",
        "\n",
        "#jobs to load data \n",
        "#Make an API request\n",
        "job1 = client.load_table_from_dataframe(dataframe1, table_id_ask_btc_usd, \n",
        "                                job_config=job_config)\n",
        "\n",
        "job2 = client.load_table_from_dataframe(dataframe2, table_id_bids_btc_usd, \n",
        "                                job_config=job_config)\n",
        "\n",
        "job3 = client.load_table_from_dataframe(dataframe3, table_id_ask_eth_usd, \n",
        "                                job_config=job_config)\n",
        "\n",
        "job4 = client.load_table_from_dataframe(dataframe4,table_id_bids_eth_usd , \n",
        "                                job_config=job_config)\n",
        " #wait for the job to complete\n",
        "job1.result()\n",
        "job2.result()\n",
        "job3.result()\n",
        "job4.result()\n",
        "\n",
        "table1 = client.get_table(table_id_ask_btc_usd)\n",
        "table2 = client.get_table(table_id_bids_btc_usd)\n",
        "table3 = client.get_table(table_id_ask_eth_usd)\n",
        "table4 = client.get_table(table_id_bids_eth_usd)\n",
        "\n",
        "print(table1)\n",
        "print(table2)\n",
        "print(table3)\n",
        "print(table4)\n"
      ],
      "metadata": {
        "id": "_RXNQ-iG57zT",
        "colab": {
          "base_uri": "https://localhost:8080/"
        },
        "outputId": "a30182df-574b-4079-85de-e9e741b2ba64"
      },
      "execution_count": 35,
      "outputs": [
        {
          "output_type": "stream",
          "name": "stdout",
          "text": [
            "Table(TableReference(DatasetReference('prefab-grid-328715', 'COINBASE_DATA_BTC_USD_STG'), 'ASK_BTC_USD'))\n",
            "Table(TableReference(DatasetReference('prefab-grid-328715', 'COINBASE_DATA_BTC_USD_STG'), 'BIDS_BTC_USD'))\n",
            "Table(TableReference(DatasetReference('prefab-grid-328715', 'COINBASE_DATA_ETH_USD_STG'), 'ASK_ETH_USD'))\n",
            "Table(TableReference(DatasetReference('prefab-grid-328715', 'COINBASE_DATA_ETH_USD_STG'), 'BIDS_ETH_USD'))\n"
          ]
        }
      ]
    },
    {
      "cell_type": "markdown",
      "source": [
        "#load data from stage datasets to production "
      ],
      "metadata": {
        "id": "6aURhFdPR61X"
      }
    },
    {
      "cell_type": "code",
      "source": [
        "#loading btc_ask_data\n",
        "def load_data1():\n",
        "  query_job = client.query(\n",
        "    \"\"\"\n",
        "    \n",
        "INSERT INTO `prefab-grid-328715.COINBASE_DATA_BTC_USD.ASK_BTC_USD` \n",
        "(PRICE, SIZE , NUM_ORDERS )   \n",
        "\n",
        "SELECT  \n",
        "CAST(PRICE as NUMERIC) as PRICE\n",
        ",CAST (SIZE as NUMERIC) as SIZE\n",
        ",num_orders as NUM_ORDERS\n",
        " FROM `prefab-grid-328715.COINBASE_DATA_BTC_USD_STG.ASK_BTC_USD`  \"\"\"\n",
        ")\n",
        "  results = query_job.result()\n",
        "\n",
        "\n",
        "\n"
      ],
      "metadata": {
        "id": "M5hN6Mb658lK"
      },
      "execution_count": 36,
      "outputs": []
    },
    {
      "cell_type": "code",
      "source": [
        "\n",
        "#loading btc_bids_data\n",
        "def load_data2():\n",
        "  query_job = client.query(\n",
        "    \"\"\"\n",
        "    \n",
        "    \n",
        "INSERT INTO `prefab-grid-328715.COINBASE_DATA_BTC_USD.BIDS_BTC_USD`\n",
        "(PRICE, SIZE , NUM_ORDERS )   \n",
        "\n",
        "SELECT  \n",
        "CAST(PRICE as NUMERIC) as PRICE\n",
        ",CAST (SIZE as NUMERIC) as SIZE\n",
        ",num_orders as NUM_ORDERS\n",
        " FROM `prefab-grid-328715.COINBASE_DATA_BTC_USD_STG.BIDS_BTC_USD`  \"\"\"\n",
        ")\n",
        "  results = query_job.result()"
      ],
      "metadata": {
        "id": "Oaup08u6WpWD"
      },
      "execution_count": 37,
      "outputs": []
    },
    {
      "cell_type": "code",
      "source": [
        "#loading eth_ask_data\n",
        "def load_data3():\n",
        "  query_job = client.query(\n",
        "    \"\"\"\n",
        "    \n",
        "INSERT INTO `prefab-grid-328715.COINBASE_DATA_ETH_USD.ASK_ETH_USD ` \n",
        "(PRICE, SIZE , NUM_ORDERS )   \n",
        "\n",
        "SELECT  \n",
        "CAST(PRICE as NUMERIC) as PRICE\n",
        ",CAST (SIZE as NUMERIC) as SIZE\n",
        ",num_orders as NUM_ORDERS\n",
        " FROM `prefab-grid-328715.COINBASE_DATA_ETH_USD_STG.ASK_ETH_USD`   \"\"\"\n",
        ")\n",
        "  results = query_job.result()"
      ],
      "metadata": {
        "id": "zVi9jNAHWs-T"
      },
      "execution_count": 38,
      "outputs": []
    },
    {
      "cell_type": "code",
      "source": [
        "#loading eth_bids_data\n",
        "def load_data4():\n",
        "  query_job = client.query(\n",
        "    \"\"\"\n",
        "    \n",
        "INSERT INTO `prefab-grid-328715.COINBASE_DATA_ETH_USD.BIDS_ETH_USD ` \n",
        "(PRICE, SIZE , NUM_ORDERS )   \n",
        "\n",
        "SELECT  \n",
        "CAST(PRICE as NUMERIC) as PRICE\n",
        ",CAST (SIZE as NUMERIC) as SIZE\n",
        ",num_orders as NUM_ORDERS\n",
        " FROM `prefab-grid-328715.COINBASE_DATA_ETH_USD_STG.BIDS_ETH_USD`   \"\"\"\n",
        ")\n",
        "  results = query_job.result()"
      ],
      "metadata": {
        "id": "PR3INr0BWwuS"
      },
      "execution_count": 39,
      "outputs": []
    },
    {
      "cell_type": "code",
      "source": [
        "#execute loads\n",
        "load_data1()\n",
        "load_data2()\n",
        "load_data3()\n",
        "load_data4()"
      ],
      "metadata": {
        "id": "VpIdgnVAZq4S"
      },
      "execution_count": 40,
      "outputs": []
    },
    {
      "cell_type": "markdown",
      "source": [
        "#use full links\n",
        "\n",
        "https://datascience.stackexchange.com/questions/72483/how-to-extract-data-from-an-api-every-hour-in-python\n",
        "https://curatedpython.com/p/coinbasepro-python-danpaquin-coinbasepro-python/index.html\n",
        "https://docs.cloud.coinbase.com/sign-in-with-coinbase/docs/client-libraries\n",
        "https://algotrading101.com/learn/coinbase-pro-api-guide/"
      ],
      "metadata": {
        "id": "LxJKv4kgXgKX"
      }
    }
  ]
}